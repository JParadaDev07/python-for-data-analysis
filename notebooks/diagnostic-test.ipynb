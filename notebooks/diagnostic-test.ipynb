{
 "cells": [
  {
   "cell_type": "code",
   "execution_count": 4,
   "id": "5fe74c94-6e6d-42f9-8294-a0480bd10453",
   "metadata": {},
   "outputs": [
    {
     "name": "stdout",
     "output_type": "stream",
     "text": [
      "Hello, my name is Julián Parada, i'm 21 years old, i live in Sogamoso - Boyacá and i Doesn't have salary yet, but i will... Soon\n"
     ]
    }
   ],
   "source": [
    "# First diagnostic\n",
    "name = \"Julián Parada\"\n",
    "age = 21\n",
    "city = \"Sogamoso - Boyacá\"\n",
    "monthly_salary = \"Doesn't have salary yet\"\n",
    "\n",
    "print(f\"Hello, my name is {name}, i'm {age} years old, i live in {city} and i {monthly_salary}, but i will... Soon\")"
   ]
  },
  {
   "cell_type": "code",
   "execution_count": 25,
   "id": "d619e67c-cfc1-4566-9ac0-ffc891d14f0d",
   "metadata": {},
   "outputs": [
    {
     "name": "stdin",
     "output_type": "stream",
     "text": [
      "Please, enter a temperature in Celsius -9\n"
     ]
    },
    {
     "name": "stdout",
     "output_type": "stream",
     "text": [
      "It's very cold\n"
     ]
    }
   ],
   "source": [
    "# Second diagnostic\n",
    "try:\n",
    "    temperature = int(input(\"Please, enter a temperature in Celsius\"))\n",
    "    if temperature >= 30:\n",
    "        print(\"It's hot outside\")\n",
    "    elif 20 <= temperature < 30:\n",
    "        print(\"Nice Weather\")\n",
    "    elif 10 <=  temperature < 20:\n",
    "        print(\"It's cool\")\n",
    "    else:\n",
    "        print(\"It's very cold\")\n",
    "except ValueError:\n",
    "    print(\"We're sorry, you entered a wrong value\")\n",
    "\n"
   ]
  },
  {
   "cell_type": "code",
   "execution_count": 42,
   "id": "7479b269-cba1-4aa1-bf75-9c0e44baecca",
   "metadata": {},
   "outputs": [
    {
     "name": "stdout",
     "output_type": "stream",
     "text": [
      "First element:  15\n",
      "Last element: 35\n",
      "Lenght of the list: 7\n",
      "List: [15, 23, 8, 42, 16, 4, 35, 50]\n"
     ]
    }
   ],
   "source": [
    "# Third diagnostic\n",
    "numbers = [15, 23, 8, 42, 16, 4, 35]\n",
    "print(f\"First element:  {numbers[0]}\")\n",
    "print(f\"Last element: {numbers[-1]}\")\n",
    "print(f\"Lenght of the list: {len(numbers)}\")\n",
    "numbers.append(50) # On the lists, when an element is added, always will be added at the end of it.\n",
    "print(f\"List: {numbers}\")\n",
    "\n",
    "\n",
    "\n",
    "\n"
   ]
  },
  {
   "cell_type": "code",
   "execution_count": 41,
   "id": "083699df-d51e-478c-b6a8-cc1ff829a87f",
   "metadata": {},
   "outputs": [
    {
     "name": "stdout",
     "output_type": "stream",
     "text": [
      "[1000.0, 2000.0, 5000.0, 3000.0]\n"
     ]
    }
   ],
   "source": [
    "# Fourth diagnostic\n",
    "prices_with_tax = [1180, 2360, 5900, 3540]\n",
    "original_prices = []\n",
    "\n",
    "first_price = prices_with_tax[0] / 1.18\n",
    "second_price = prices_with_tax[1] / 1.18\n",
    "third_price = prices_with_tax[2] / 1.18\n",
    "fourth_price = prices_with_tax[3] / 1.18\n",
    "\n",
    "original_prices.append(first_price)\n",
    "original_prices.append(second_price)\n",
    "original_prices.append(third_price)\n",
    "original_prices.append(fourth_price)\n",
    "\n",
    "print(original_prices)\n",
    "\n"
   ]
  },
  {
   "cell_type": "code",
   "execution_count": null,
   "id": "76ba084d-c0b6-4c5a-946d-55d7138e971a",
   "metadata": {},
   "outputs": [],
   "source": []
  }
 ],
 "metadata": {
  "kernelspec": {
   "display_name": "Python [conda env:base] *",
   "language": "python",
   "name": "conda-base-py"
  },
  "language_info": {
   "codemirror_mode": {
    "name": "ipython",
    "version": 3
   },
   "file_extension": ".py",
   "mimetype": "text/x-python",
   "name": "python",
   "nbconvert_exporter": "python",
   "pygments_lexer": "ipython3",
   "version": "3.13.5"
  }
 },
 "nbformat": 4,
 "nbformat_minor": 5
}
