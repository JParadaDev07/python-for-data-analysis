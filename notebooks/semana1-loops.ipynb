{
 "cells": [
  {
   "cell_type": "code",
   "execution_count": 1,
   "id": "27f4b199-92bb-427d-8103-cd18fcb8db18",
   "metadata": {},
   "outputs": [
    {
     "name": "stdout",
     "output_type": "stream",
     "text": [
      "Empiezo hoy 30 SEP 2025\n",
      "Meta: Empleabe en Febrero de 2026\n",
      "Repositorio: python-for-data-analytics\n",
      "Ruta completa funcionando con Git\n"
     ]
    }
   ],
   "source": [
    "print(\"Empiezo hoy 30 SEP 2025\")\n",
    "print(\"Meta: Empleabe en Febrero de 2026\")\n",
    "print(\"Repositorio: python-for-data-analytics\")\n",
    "print(\"Ruta completa funcionando con Git\")"
   ]
  },
  {
   "cell_type": "code",
   "execution_count": null,
   "id": "c07560f4-a7db-482f-a385-46fd2e56fa9c",
   "metadata": {},
   "outputs": [],
   "source": []
  }
 ],
 "metadata": {
  "kernelspec": {
   "display_name": "Python [conda env:base] *",
   "language": "python",
   "name": "conda-base-py"
  },
  "language_info": {
   "codemirror_mode": {
    "name": "ipython",
    "version": 3
   },
   "file_extension": ".py",
   "mimetype": "text/x-python",
   "name": "python",
   "nbconvert_exporter": "python",
   "pygments_lexer": "ipython3",
   "version": "3.13.5"
  }
 },
 "nbformat": 4,
 "nbformat_minor": 5
}
